{
 "cells": [
  {
   "cell_type": "code",
   "execution_count": 45,
   "id": "7cf4e7b6",
   "metadata": {},
   "outputs": [],
   "source": [
    "# linear regression for multioutput regression\n",
    "import numpy as np\n",
    "from sklearn.datasets import make_regression\n",
    "from sklearn.linear_model import LinearRegression\n"
   ]
  },
  {
   "cell_type": "code",
   "execution_count": 54,
   "id": "2a9f51f3",
   "metadata": {},
   "outputs": [],
   "source": [
    "# create datasets\n",
    "X, y = make_regression(n_samples=10, n_features=10, n_informative=5, n_targets=2, random_state=1, noise=0.5)\n"
   ]
  },
  {
   "cell_type": "code",
   "execution_count": 59,
   "id": "f2f40247",
   "metadata": {},
   "outputs": [
    {
     "data": {
      "text/plain": [
       "array([[  76.78482516,   73.1821318 ],\n",
       "       [  66.50799504,   71.07746831],\n",
       "       [ -20.92594904,  -12.98571098],\n",
       "       [ -72.78599675,  -37.55760275],\n",
       "       [-135.94066083,  -83.74722086],\n",
       "       [ -75.2115421 ,  -94.06429484],\n",
       "       [-144.57230229,  -77.88039201],\n",
       "       [  89.01008871,   52.63360573],\n",
       "       [  46.69184525,    5.89514025],\n",
       "       [-123.15114569,  -63.5257516 ]])"
      ]
     },
     "execution_count": 59,
     "metadata": {},
     "output_type": "execute_result"
    }
   ],
   "source": [
    "Y = [ t / 10 for t in y.astype(int)]\n",
    "y"
   ]
  },
  {
   "cell_type": "code",
   "execution_count": 58,
   "id": "1a7dc482",
   "metadata": {},
   "outputs": [
    {
     "data": {
      "text/plain": [
       "array([[1.78482516, 1.1821318 ],\n",
       "       [0.50799504, 2.07746831],\n",
       "       [0.07405096, 2.01428902],\n",
       "       [2.21400325, 1.44239725],\n",
       "       [2.05933917, 0.25277914],\n",
       "       [2.7884579 , 1.93570516],\n",
       "       [2.42769771, 0.11960799],\n",
       "       [2.01008871, 1.63360573],\n",
       "       [1.69184525, 2.89514025],\n",
       "       [2.84885431, 2.4742484 ]])"
      ]
     },
     "execution_count": 58,
     "metadata": {},
     "output_type": "execute_result"
    }
   ],
   "source": [
    "def myfunc(a):\n",
    "    return a % 3\n",
    "vfunc = np.vectorize(myfunc)\n",
    "Y = vfunc(y)\n",
    "Y"
   ]
  },
  {
   "cell_type": "code",
   "execution_count": 60,
   "id": "a98603ed",
   "metadata": {},
   "outputs": [
    {
     "name": "stdout",
     "output_type": "stream",
     "text": [
      "[11.34522229 14.73299282]\n"
     ]
    }
   ],
   "source": [
    "# define model\n",
    "model = LinearRegression()\n",
    "# fit model\n",
    "model.fit(X, y)\n",
    "# make a prediction\n",
    "row = [0.21947749, 0.32948997, 0.81560036, 0.440956, -0.0606303, -0.29257894, -0.2820059, -0.00290545, 0.96402263, 0.04992249]\n",
    "yhat = model.predict([row])\n",
    "# summarize prediction\n",
    "print(yhat[0])"
   ]
  },
  {
   "cell_type": "code",
   "execution_count": 62,
   "id": "6320b0b4",
   "metadata": {},
   "outputs": [
    {
     "data": {
      "text/plain": [
       "array([3, 0, 0, 3, 2, 1, 3, 2, 1, 0])"
      ]
     },
     "execution_count": 62,
     "metadata": {},
     "output_type": "execute_result"
    }
   ],
   "source": [
    "np.random.randint(4, size=10)"
   ]
  },
  {
   "cell_type": "code",
   "execution_count": null,
   "id": "60800c6d",
   "metadata": {},
   "outputs": [],
   "source": []
  }
 ],
 "metadata": {
  "kernelspec": {
   "display_name": "Python 3",
   "language": "python",
   "name": "python3"
  },
  "language_info": {
   "codemirror_mode": {
    "name": "ipython",
    "version": 3
   },
   "file_extension": ".py",
   "mimetype": "text/x-python",
   "name": "python",
   "nbconvert_exporter": "python",
   "pygments_lexer": "ipython3",
   "version": "3.8.8"
  }
 },
 "nbformat": 4,
 "nbformat_minor": 5
}
